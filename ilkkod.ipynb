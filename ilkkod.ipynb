{
 "cells": [
  {
   "cell_type": "code",
   "execution_count": 29,
   "metadata": {},
   "outputs": [
    {
     "name": "stdout",
     "output_type": "stream",
     "text": [
      "a\n"
     ]
    }
   ],
   "source": [
    "mesaj = \"Merhaba Dunya\"\n",
    "print(mesaj[len(mesaj)-1:len(mesaj)])"
   ]
  },
  {
   "cell_type": "code",
   "execution_count": 38,
   "metadata": {},
   "outputs": [
    {
     "name": "stdout",
     "output_type": "stream",
     "text": [
      "Mahaba Dunya\n"
     ]
    }
   ],
   "source": [
    "mesaj = \"Merhaba Dunya\"\n",
    "print(mesaj.replace(\"er\",\"a\"))"
   ]
  },
  {
   "cell_type": "code",
   "execution_count": 42,
   "metadata": {},
   "outputs": [
    {
     "name": "stdout",
     "output_type": "stream",
     "text": [
      "['Engin', 'Demiroğ', '33', 'Ankara']\n"
     ]
    }
   ],
   "source": [
    "mesaj = \"Engin Demiroğ 33 Ankara\"\n",
    "print(mesaj.split())\n"
   ]
  },
  {
   "cell_type": "code",
   "execution_count": 43,
   "metadata": {},
   "outputs": [
    {
     "name": "stdout",
     "output_type": "stream",
     "text": [
      "x =20\n",
      "y =10\n"
     ]
    }
   ],
   "source": [
    "x = 10\n",
    "y = 20\n",
    "\n",
    "x,y = y, x\n",
    "\n",
    "print(\"x =\" + str(x))\n",
    "\n",
    "print(\"y =\" + str(y))"
   ]
  },
  {
   "cell_type": "code",
   "execution_count": 49,
   "metadata": {},
   "outputs": [
    {
     "name": "stdout",
     "output_type": "stream",
     "text": [
      "mildegeri = 62.0 mil dir\n"
     ]
    }
   ],
   "source": [
    "kmdeger = int(input(\"mil olarak ogrenmek istediginiz km yi giriniz\"))\n",
    "\n",
    "print(\"mildegeri =\", kmdeger*0.62, \"mil dir\")"
   ]
  },
  {
   "cell_type": "code",
   "execution_count": 59,
   "metadata": {},
   "outputs": [
    {
     "name": "stdout",
     "output_type": "stream",
     "text": [
      "['suleyman', 'Salih', 'Kamil']\n"
     ]
    }
   ],
   "source": [
    "ogrenciler=[\"Engin\", \"Deniz\", \"Salih\"]\n",
    "ogrenciler.append(\"Kamil\")\n",
    "ogrenciler.remove(ogrenciler[1])\n",
    "ogrenciler[0] = \"suleyman\"\n",
    "print(ogrenciler)"
   ]
  },
  {
   "cell_type": "code",
   "execution_count": 83,
   "metadata": {},
   "outputs": [],
   "source": [
    "sehirler = list((\"Ankara\", \"Istanbul\", \"Ankara\"))\n",
    "\n",
    "print(sehirler.count(\"Ankara\"))\n",
    "print(\"Ankara indexi :\" + str(sehirler.index(\"Ankara\")))\n",
    "print(sehirler.insert(3,\"Karaman\"))\n",
    "print(sehirler.reverse())"
   ]
  },
  {
   "cell_type": "code",
   "execution_count": null,
   "metadata": {},
   "outputs": [],
   "source": [
    "# tuple\n",
    "tupleListe = (2,3,4,\"Ankara\", (2,3,4))\n",
    "liste = [2,3,4,\"Ankara\", [2,3,4]]\n",
    "print(type(tupleListe))\n",
    "print(type(liste))\n",
    "print(tupleListe)\n",
    "print(liste)\n",
    "print(len(tupleListe))\n",
    "print(len(liste))\n",
    "liste[0] = 6\n",
    "print(liste)\n",
    "#error tupleListe[0] = 6 tuple da assignment yapılamaz\n",
    "print(liste[1:2])\n",
    "print(tupleListe[1:2])\n",
    "\n",
    "tupledeger1 = (\"Engin\")\n",
    "tupledeger = (\"Engin\",)\n",
    "print(tupledeger)\n",
    "print(tupledeger1)"
   ]
  },
  {
   "cell_type": "code",
   "execution_count": null,
   "metadata": {},
   "outputs": [],
   "source": [
    "# recapdemo2\n",
    "sayi = int(input(\"yıldız sayısı girin\"))\n",
    "i = 1\n",
    "while i <= sayi:\n",
    "    print(\"*\" * i)\n",
    "    i += 1\n",
    "\n",
    "for i in range(1, sayi + 1):\n",
    "    print(\"*\"*i)\n"
   ]
  },
  {
   "cell_type": "code",
   "execution_count": 153,
   "metadata": {},
   "outputs": [
    {
     "name": "stdout",
     "output_type": "stream",
     "text": [
      "    *    \n",
      "   ***   \n",
      "  *****  \n",
      " ******* \n",
      "*********\n"
     ]
    }
   ],
   "source": [
    "sayi = int(input(\"sayi girin\"))\n",
    "i = 1\n",
    "while i <= sayi:\n",
    "    print(int((sayi-i)/2) * \" \" + i * \"*\" + int((sayi-i)/2) * \" \" )\n",
    "    i += 2\n",
    "\n"
   ]
  },
  {
   "cell_type": "code",
   "execution_count": 171,
   "metadata": {},
   "outputs": [
    {
     "name": "stdout",
     "output_type": "stream",
     "text": [
      "[2, 3, 5, 7, 11, 13, 17, 19, 23]\n"
     ]
    }
   ],
   "source": [
    "# asal sayı hesaplama\n",
    "liste = [2,3,5,7]\n",
    "sayi = int(input(\"sayı giriniz\"))\n",
    "for x in range(2, sayi+1):\n",
    "    if x% 2 != 0 and x% 3 != 0 and x% 5 != 0 and x% 7 != 0:\n",
    "        liste.append(x)\n",
    "print(liste)"
   ]
  },
  {
   "cell_type": "code",
   "execution_count": 187,
   "metadata": {},
   "outputs": [
    {
     "name": "stdout",
     "output_type": "stream",
     "text": [
      "bu sayı asaldır\n"
     ]
    }
   ],
   "source": [
    "liste = [2,3,5,7]\n",
    "x = int(input(\"sayı giriniz\"))\n",
    "\n",
    "if x% 2 != 0 and x% 3 != 0 and x% 5 != 0 and x% 7 != 0 or x == 2 or x ==3 or x==5 or x ==7:\n",
    "    print(\"bu sayı asaldır\")\n",
    "else:\n",
    "    print(\"bu sayı asal değildir\")    "
   ]
  },
  {
   "cell_type": "code",
   "execution_count": 199,
   "metadata": {},
   "outputs": [
    {
     "name": "stdout",
     "output_type": "stream",
     "text": [
      "Merhaba, programıma hoşgeldiniz kullanıcı Arkadaş\n"
     ]
    }
   ],
   "source": [
    "#functions\n",
    "def selamlama(isim = \"kullanıcı\", soyisim = \"Arkadaş\"):\n",
    "    hitap = isim +  \" \" + soyisim\n",
    "    print(\"Merhaba, programıma hoşgeldiniz\" ,hitap)\n",
    "    \n",
    "selamlama()"
   ]
  },
  {
   "cell_type": "code",
   "execution_count": 203,
   "metadata": {},
   "outputs": [
    {
     "name": "stdout",
     "output_type": "stream",
     "text": [
      "6.0\n",
      "<class 'function'>\n",
      "10.0\n"
     ]
    }
   ],
   "source": [
    "#lambda\n",
    "dikucgenalan = lambda a,b: a*b/2\n",
    "\n",
    "print(dikucgenalan(3,4))\n",
    "print(type(dikucgenalan))\n",
    "\n",
    "x =dikucgenalan\n",
    "\n",
    "print(x(4,5))"
   ]
  },
  {
   "cell_type": "code",
   "execution_count": 222,
   "metadata": {},
   "outputs": [
    {
     "name": "stdout",
     "output_type": "stream",
     "text": [
      "120\n"
     ]
    }
   ],
   "source": [
    "# faktöriyel hesaplama\n",
    "\n",
    "sayi = int(input(\"Sayi giriniz!\"))\n",
    "\n",
    "# for i in range(1, sayi):\n",
    "#     sayi = sayi * i\n",
    "# print(sayi)\n",
    "\n",
    "i = 1\n",
    "faktor = 1\n",
    "\n",
    "while i <= sayi:\n",
    "    faktor = faktor *i\n",
    "    i += 1\n",
    "\n",
    "print(faktor)\n"
   ]
  },
  {
   "cell_type": "code",
   "execution_count": 224,
   "metadata": {},
   "outputs": [
    {
     "name": "stdout",
     "output_type": "stream",
     "text": [
      "bugün\n",
      "hava\n",
      "çok\n",
      "güzel\n"
     ]
    }
   ],
   "source": [
    "cümle = \" bugün hava çok güzel\"\n",
    "\n",
    "cümle2 = cümle.split()\n",
    "for i in cümle2:\n",
    "    print(i)"
   ]
  },
  {
   "cell_type": "code",
   "execution_count": 6,
   "metadata": {},
   "outputs": [
    {
     "name": "stdout",
     "output_type": "stream",
     "text": [
      "1 3 2\n",
      "4 6 5\n"
     ]
    }
   ],
   "source": [
    "liste = [[1,2,3],[4,5,6]]\n",
    "for x,y,z in liste:\n",
    "    print(x,z,y)"
   ]
  },
  {
   "cell_type": "code",
   "execution_count": 36,
   "metadata": {},
   "outputs": [
    {
     "name": "stdout",
     "output_type": "stream",
     "text": [
      "{'ad': 'Mesut', 'soyad': 'Gün', 'uzmanlik': ['Front-End', 'Yazilim']}\n",
      "Mesut\n",
      "Ferhat\n"
     ]
    }
   ],
   "source": [
    "kullanici1 = {\n",
    "    \"ad\" : \"Ferhat\",\n",
    "    \"soyad\" : \"Ibrik\",\n",
    "    \"uzmanlik\" : [\"Front-End\"]\n",
    "}\n",
    "kullanici2 = {\n",
    "    \"ad\" : \"Gokce\",\n",
    "    \"soyad\" : \"Gün\",\n",
    "    \"uzmanlik\" : [\"Tasarım\"]\n",
    "}\n",
    "kullanici3 = {\n",
    "    \"ad\" : \"Mesut\",\n",
    "    \"soyad\" : \"Gün\",\n",
    "    \"uzmanlik\" : [\"Front-End\"]\n",
    "}\n",
    "\n",
    "\n",
    "\n",
    "kullanicilistesi = [kullanici1, kullanici2, kullanici3]\n",
    "\n",
    "# for kullanici in kullanicilistesi:\n",
    "#     if kullanici[\"uzmanlik\"] == [\"Front-End\"]:\n",
    "#         print(kullanici[\"ad\"])\n",
    "\n",
    "\n",
    "\n",
    "kullanici3[\"uzmanlik\"].append(\"Yazilim\")\n",
    "print(kullanici3)\n",
    "\n",
    "for kullanici in kullanicilistesi:\n",
    "    if len(kullanici[\"uzmanlik\"]) > 1:\n",
    "        print(kullanici[\"ad\"])\n",
    "\n",
    "kullanici_yaslari = [22,34,32]\n",
    "\n",
    "for kullanici,yas in zip(kullanicilistesi,kullanici_yaslari):\n",
    "    if yas < 30:\n",
    "        print(kullanici[\"ad\"])"
   ]
  },
  {
   "cell_type": "code",
   "execution_count": 82,
   "metadata": {},
   "outputs": [
    {
     "name": "stdout",
     "output_type": "stream",
     "text": [
      "asal değil\n"
     ]
    }
   ],
   "source": [
    "sayi = int(input(\"asal sayı check!\"))\n",
    "\n",
    "for i in range(2, sayi):\n",
    "    if sayi % i == 0:\n",
    "        deger = \"asal değil\"\n",
    "        break\n",
    "    else:\n",
    "        deger = \"asal\"\n",
    "print(deger)\n"
   ]
  },
  {
   "cell_type": "code",
   "execution_count": null,
   "metadata": {},
   "outputs": [],
   "source": [
    "def fonk():\n",
    "    \"\"\"\n",
    "    Bu fonksiyonun açıklaması budur!\n",
    "    \"\"\"\n",
    "\n",
    "print(fonk.__doc__)"
   ]
  },
  {
   "cell_type": "code",
   "execution_count": 8,
   "metadata": {},
   "outputs": [
    {
     "name": "stdout",
     "output_type": "stream",
     "text": [
      "[12, 2]\n"
     ]
    }
   ],
   "source": [
    "#functions zerotohero\n",
    "\n",
    "even_list = []\n",
    "def even_num_check(my_list):\n",
    "    for number in my_list:\n",
    "        if number % 2 == 0:\n",
    "            even_list.append(number)  \n",
    "        else:\n",
    "            pass\n",
    "    return even_list\n",
    "\n",
    "print(even_num_check([5,7,9,12,2]))"
   ]
  },
  {
   "cell_type": "code",
   "execution_count": 17,
   "metadata": {},
   "outputs": [
    {
     "name": "stdout",
     "output_type": "stream",
     "text": [
      "('veli', 1900)\n"
     ]
    }
   ],
   "source": [
    "personel_calisma = [(\"ali\", 200), (\"veli\", 1900), (\"kamil\", 220)]\n",
    "\n",
    "\n",
    "\n",
    "def ayin_elemani(a):\n",
    "    saat = 0\n",
    "    calisan = \"\"\n",
    "    for eleman,saati in personel_calisma:\n",
    "        if saati > saat:\n",
    "            saat = saati\n",
    "            calisan = eleman\n",
    "        else:\n",
    "            pass\n",
    "    return calisan, saat\n",
    "\n",
    "\n",
    "print(ayin_elemani(personel_calisma))"
   ]
  },
  {
   "cell_type": "code",
   "execution_count": 19,
   "metadata": {},
   "outputs": [
    {
     "name": "stdout",
     "output_type": "stream",
     "text": [
      "ayın elemanın adı veli, çalışma süresi de 1900 saattir\n"
     ]
    }
   ],
   "source": [
    "ad, süre = ayin_elemani(personel_calisma)\n",
    "print(f\"ayın elemanın adı {ad}, çalışma süresi de {süre} saattir\")"
   ]
  },
  {
   "cell_type": "code",
   "execution_count": 23,
   "metadata": {},
   "outputs": [
    {
     "name": "stdout",
     "output_type": "stream",
     "text": [
      "[2, 0, 5, 3, 1, 4, 7, 6]\n"
     ]
    }
   ],
   "source": [
    "from random import shuffle\n",
    "\n",
    "example = [0, 1, 2, 3, 4, 5, 6, 7]\n",
    "shuffle(example)\n",
    "print(example)"
   ]
  },
  {
   "cell_type": "code",
   "execution_count": 33,
   "metadata": {},
   "outputs": [
    {
     "name": "stdout",
     "output_type": "stream",
     "text": [
      "[3, 4, 5, 6, 1, 7, 2, 0]\n"
     ]
    }
   ],
   "source": [
    "def suffle_a_list(mylist):\n",
    "    shuffle(mylist)\n",
    "    return mylist\n",
    "\n",
    "result = suffle_a_list(example)\n",
    "print(result)"
   ]
  },
  {
   "cell_type": "code",
   "execution_count": 8,
   "metadata": {},
   "outputs": [
    {
     "name": "stdout",
     "output_type": "stream",
     "text": [
      "[3, 4, 'e']\n"
     ]
    }
   ],
   "source": [
    "x,y,*z = (1,2,3,4,\"e\")\n",
    "print(z)"
   ]
  },
  {
   "cell_type": "code",
   "execution_count": 25,
   "metadata": {},
   "outputs": [
    {
     "name": "stdout",
     "output_type": "stream",
     "text": [
      "(0, 'Ayşe')\n",
      "(1, 'Fatma')\n",
      "(2, 'Kamile')\n",
      "(3, 'Müslüm')\n"
     ]
    }
   ],
   "source": [
    "adlar = [\"Ayşe\", \"Fatma\", \"Kamile\", \"Müslüm\"]\n",
    "for i in enumerate(adlar):\n",
    "    print(i)"
   ]
  },
  {
   "cell_type": "code",
   "execution_count": 17,
   "metadata": {},
   "outputs": [],
   "source": [
    "def ilk_fonk(x):\n",
    "    res = x**x\n",
    "    print(f\"Bu işlemin sonucu {res} dir\")\n",
    " \n",
    "\n"
   ]
  },
  {
   "cell_type": "code",
   "execution_count": 18,
   "metadata": {},
   "outputs": [
    {
     "name": "stdout",
     "output_type": "stream",
     "text": [
      "Bu işlemin sonucu 27 dir\n"
     ]
    }
   ],
   "source": [
    "ilk_fonk(3)"
   ]
  },
  {
   "cell_type": "code",
   "execution_count": 23,
   "metadata": {},
   "outputs": [],
   "source": [
    "tek_sayilar = [x for x in range(1,11) if x%2 != 0  ]"
   ]
  },
  {
   "cell_type": "code",
   "execution_count": 2,
   "metadata": {},
   "outputs": [
    {
     "name": "stdout",
     "output_type": "stream",
     "text": [
      "13\n"
     ]
    }
   ],
   "source": [
    "def kare(x):\n",
    "    return x**2\n",
    "\n",
    "def f3(c, f):\n",
    "    return f(c) +4\n",
    "\n",
    "print(f3(3, kare))"
   ]
  },
  {
   "cell_type": "code",
   "execution_count": 10,
   "metadata": {},
   "outputs": [
    {
     "data": {
      "text/plain": [
       "9"
      ]
     },
     "execution_count": 10,
     "metadata": {},
     "output_type": "execute_result"
    }
   ],
   "source": [
    "def kare(x):\n",
    "  return x**2\n",
    "\n",
    "a =kare\n",
    "\n",
    "def f2(i,f):\n",
    "  return f(i)\n",
    "\n",
    "f2(3,kare)\n"
   ]
  },
  {
   "cell_type": "code",
   "execution_count": 13,
   "metadata": {},
   "outputs": [
    {
     "name": "stdout",
     "output_type": "stream",
     "text": [
      "125250\n"
     ]
    }
   ],
   "source": [
    "def n_num(n):\n",
    "    if n > 0:\n",
    "        return n + n_num(n-1)\n",
    "    if n <= 0:\n",
    "        return 0\n",
    "\n",
    "print(n_num(500))"
   ]
  },
  {
   "cell_type": "code",
   "execution_count": 28,
   "metadata": {},
   "outputs": [
    {
     "name": "stdout",
     "output_type": "stream",
     "text": [
      "78.5\n"
     ]
    }
   ],
   "source": [
    "def daireAlan():\n",
    "    r = input(\"Yarıçapı Gir :\")\n",
    "    alan = float(r) * float(r)*3.14\n",
    "    return alan\n",
    "print(daireAlan())\n"
   ]
  },
  {
   "cell_type": "code",
   "execution_count": 8,
   "metadata": {},
   "outputs": [
    {
     "name": "stdout",
     "output_type": "stream",
     "text": [
      "12\n"
     ]
    }
   ],
   "source": [
    "def kare_alan():\n",
    "    a = int(input(\"'a' kenarının uzunluğunu giriniz :\" ))\n",
    "    b = int(input(\"'b' kenarının uzunluğunu giriniz :\" ))\n",
    "    alan = a*b\n",
    "    return alan\n",
    "\n",
    "print(kare_alan())"
   ]
  },
  {
   "cell_type": "code",
   "execution_count": 18,
   "metadata": {},
   "outputs": [
    {
     "data": {
      "text/plain": [
       "5.0"
      ]
     },
     "execution_count": 18,
     "metadata": {},
     "output_type": "execute_result"
    }
   ],
   "source": [
    "def iki_sayı():\n",
    "    cift_toplam = 0\n",
    "    sayı_adet = 0\n",
    "    a_sayısı = int(input(\"ilk sayıyı giriniz : \"))\n",
    "    b_sayısı = int(input(\"ikinci sayıyı giriniz : \"))\n",
    "    if b_sayısı>a_sayısı :\n",
    "        for i in range(a_sayısı, b_sayısı):\n",
    "            if i %2 == 0:\n",
    "                cift_toplam += i\n",
    "                sayı_adet += 1\n",
    "    else:\n",
    "        for i in range(b_sayısı, a_sayısı):\n",
    "            if i %2 == 0:\n",
    "                cift_toplam += i\n",
    "                sayı_adet += 1\n",
    "    return cift_toplam / sayı_adet\n",
    "\n",
    "\n",
    "iki_sayı()"
   ]
  },
  {
   "cell_type": "code",
   "execution_count": 33,
   "metadata": {},
   "outputs": [
    {
     "data": {
      "text/plain": [
       "False"
      ]
     },
     "execution_count": 33,
     "metadata": {},
     "output_type": "execute_result"
    }
   ],
   "source": [
    "# asal sayı check\n",
    "def asal_sayı():\n",
    "    a = int(input(\"Bu sayı asal sayı mı?\"))\n",
    "\n",
    "    for i in range(2,a):\n",
    "        if a % i != 0:\n",
    "            return True\n",
    "        else:\n",
    "            return False\n",
    "\n",
    "asal_sayı()"
   ]
  },
  {
   "cell_type": "code",
   "execution_count": 1,
   "metadata": {},
   "outputs": [
    {
     "data": {
      "text/plain": [
       "54"
      ]
     },
     "execution_count": 1,
     "metadata": {},
     "output_type": "execute_result"
    }
   ],
   "source": [
    "def sayi():\n",
    "    return 54\n",
    "sayi()"
   ]
  },
  {
   "cell_type": "code",
   "execution_count": null,
   "metadata": {},
   "outputs": [],
   "source": []
  }
 ],
 "metadata": {
  "interpreter": {
   "hash": "4e1d9a8909477db77738c33245c29c7265277ef753467dede8cf3f814cde494e"
  },
  "kernelspec": {
   "display_name": "Python 3.10.4 64-bit",
   "language": "python",
   "name": "python3"
  },
  "language_info": {
   "codemirror_mode": {
    "name": "ipython",
    "version": 3
   },
   "file_extension": ".py",
   "mimetype": "text/x-python",
   "name": "python",
   "nbconvert_exporter": "python",
   "pygments_lexer": "ipython3",
   "version": "3.10.4"
  },
  "orig_nbformat": 4
 },
 "nbformat": 4,
 "nbformat_minor": 2
}
